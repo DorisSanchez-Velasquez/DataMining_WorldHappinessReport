{
 "cells": [
  {
   "cell_type": "code",
   "execution_count": 10,
   "metadata": {},
   "outputs": [
    {
     "name": "stdout",
     "output_type": "stream",
     "text": [
      "The year is:  2015\n",
      "['Country', 'Region', 'Happiness Rank', 'Happiness Score', 'Standard Error', 'Economy (GDP per Capita)', 'Family', 'Health (Life Expectancy)', 'Freedom', 'Trust (Government Corruption)', 'Generosity', 'Dystopia Residual']\n",
      "The year is:  2016\n",
      "['Country', 'Region', 'Happiness Rank', 'Happiness Score', 'Lower Confidence Interval', 'Upper Confidence Interval', 'Economy (GDP per Capita)', 'Family', 'Health (Life Expectancy)', 'Freedom', 'Trust (Government Corruption)', 'Generosity', 'Dystopia Residual']\n",
      "The year is:  2017\n",
      "['Country', 'Happiness.Rank', 'Happiness.Score', 'Whisker.high', 'Whisker.low', 'Economy..GDP.per.Capita.', 'Family', 'Health..Life.Expectancy.', 'Freedom', 'Generosity', 'Trust..Government.Corruption.', 'Dystopia.Residual']\n",
      "The year is:  2018\n",
      "['Overall rank', 'Country or region', 'Score', 'GDP per capita', 'Social support', 'Healthy life expectancy', 'Freedom to make life choices', 'Generosity', 'Perceptions of corruption']\n"
     ]
    }
   ],
   "source": [
    "import pandas as pd\n",
    "\n",
    "## Read all data into one single dataframe\n",
    "happiness_df_data = pd.read_csv('./Happiness_Dataset/2015.csv')\n",
    "happiness_df_data.head(1)\n",
    "\n",
    "for year in range (2015, 2019):\n",
    "    temp_data = pd.read_csv(f'./Happiness_Dataset/{year}.csv')\n",
    "    print(\"The year is: \", year)\n",
    "    print(list(temp_data.columns.values))\n",
    "    "
   ]
  }
 ],
 "metadata": {
  "kernelspec": {
   "display_name": "Python 3",
   "language": "python",
   "name": "python3"
  },
  "language_info": {
   "codemirror_mode": {
    "name": "ipython",
    "version": 3
   },
   "file_extension": ".py",
   "mimetype": "text/x-python",
   "name": "python",
   "nbconvert_exporter": "python",
   "pygments_lexer": "ipython3",
   "version": "3.9.6"
  },
  "orig_nbformat": 4,
  "vscode": {
   "interpreter": {
    "hash": "5e3958ac43a9925cccec3cc0b90475e9a1eb582b0a026a9f6f10e7e3d12170fe"
   }
  }
 },
 "nbformat": 4,
 "nbformat_minor": 2
}
